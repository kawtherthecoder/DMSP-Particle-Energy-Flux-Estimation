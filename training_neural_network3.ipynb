{
 "cells": [
  {
   "attachments": {},
   "cell_type": "markdown",
   "metadata": {},
   "source": [
    "# LBH to Electron Total Energy Flux Model Training"
   ]
  },
  {
   "attachments": {},
   "cell_type": "markdown",
   "metadata": {},
   "source": [
    "This was my attempt at applying neural network modeling to predicting electron total energy flux from LBHL and LBHS emission data using only 1 week of data. Because of the small amount of data, I omitted k cross fold validation and a bunch of necessary steps that would make this a big data problem. "
   ]
  },
  {
   "cell_type": "code",
   "execution_count": 1,
   "metadata": {},
   "outputs": [
    {
     "name": "stdout",
     "output_type": "stream",
     "text": [
      "[PhysicalDevice(name='/physical_device:CPU:0', device_type='CPU'), PhysicalDevice(name='/physical_device:GPU:0', device_type='GPU')]\n"
     ]
    }
   ],
   "source": [
    "import tensorflow as tf\n",
    "devices = tf.config.list_physical_devices()\n",
    "print(devices)\n",
    "\n",
    "import numpy as np\n",
    "import h5py \n",
    "import os\n",
    "from sklearn.model_selection import train_test_split \n",
    "import matplotlib.pyplot as plt \n",
    "from sklearn import svm\n",
    "from sklearn import linear_model\n",
    "from sklearn.metrics import mean_squared_error\n",
    "import tensorflow as tf\n",
    "from collections import defaultdict\n",
    "from PIL import Image\n",
    "from tensorflow import keras\n",
    "from sklearn.preprocessing import StandardScaler, PowerTransformer, RobustScaler\n",
    "import glob\n",
    "import pdb\n",
    "from scipy.ndimage import uniform_filter1d\n",
    "import pickle\n",
    "import xlwt \n",
    "from xlwt import Workbook \n",
    "import csv"
   ]
  },
  {
   "attachments": {},
   "cell_type": "markdown",
   "metadata": {},
   "source": [
    "# Get the Conjunction data"
   ]
  },
  {
   "cell_type": "code",
   "execution_count": 2,
   "metadata": {},
   "outputs": [],
   "source": [
    "# hd_dir = os.path.join('/home/matsuo/amgeo_dev/Pseudo_ML','conjunction_data2')\n",
    "hd_dir = os.path.join('/Volumes/Sandisk500/AMGeO/DMSP LEO/','conjunction_data/F1718-SSUSIv3') # PATH TO DATA FOLDER\n",
    "file_dir = os.path.join(hd_dir,'*.hdf5')\n",
    "conjunc_files = glob.glob(file_dir)\n",
    "conjunc_files = np.sort(conjunc_files) #sort the files by time \n",
    "\n",
    "# ele_diff_energy_flux_arr,ion_diff_energy_flux_arr = np.empty((0,19)) ,np.empty((0,19))\n",
    "ele_flux, ion_flux = [],[]\n",
    "ssusi_lbhl, ssusi_lbhs = [],[]\n",
    "ssusi_solar_irr, ssusi_aurora = [], [] # new features\n",
    "jds, lons, lats = [], [], []\n",
    "sat_nums, passes = [], []\n",
    "\n",
    "ssj_lbhl, ssj_lbhs = [],[]\n",
    "# print(conjunc_files)\n",
    "\n",
    "for file_name in conjunc_files:\n",
    "    with h5py.File(file_name, 'r') as f:\n",
    "\n",
    "        jds.extend(f['jds'][:])\n",
    "        passes.extend(f['pass_num'][:])\n",
    "        sat_nums.extend(f['sat_no'][:])\n",
    "        lons.extend(f['lons'][:])\n",
    "        lats.extend(f['lats'][:])\n",
    "        \n",
    "        #input data\n",
    "        ssusi_lbhl.extend(f['LBHL_interped'][:])\n",
    "        ssusi_lbhs.extend(f['LBHS_interped'][:])\n",
    "        ssusi_solar_irr.extend(f['solar_irr_mask_interped'][:])\n",
    "        ssusi_aurora.extend(f['aurora_mask_interped'][:])\n",
    "        #output \n",
    "        # ele_diff_energy_flux_arr = np.vstack((ele_diff_energy_flux_arr, f['ele_diff_energy_flux'][:]))\n",
    "        # ion_diff_energy_flux_arr = np.vstack((ion_diff_energy_flux_arr, f['ion_diff_energy_flux'][:]))\n",
    "        ele_flux.extend(f['ele_total_energy_flux'][:])\n",
    "        ion_flux.extend(f['ion_total_energy_flux'][:])\n",
    "    "
   ]
  },
  {
   "cell_type": "code",
   "execution_count": 3,
   "metadata": {},
   "outputs": [
    {
     "name": "stdout",
     "output_type": "stream",
     "text": [
      "(541152,)\n",
      "(541152,)\n",
      "(541152,)\n"
     ]
    }
   ],
   "source": [
    "#convert to numpy arrays \n",
    "ele_flux, ion_flux = np.asarray(ele_flux), np.asarray(ion_flux)\n",
    "ssusi_lbhl, ssusi_lbhs = np.asarray(ssusi_lbhl), np.asarray(ssusi_lbhs)\n",
    "ssusi_solar_irr, ssusi_aurora = np.array(ssusi_solar_irr), np.array(ssusi_aurora)\n",
    "jds = np.asarray(jds)\n",
    "sat_nums, passes = np.asarray(sat_nums), np.asarray(passes)\n",
    "lons, lats = np.asarray(lons), np.asarray(lats)\n",
    "# ssj_lbhl, ssj_lbhs = np.asarray(ssj_lbhl), np.asarray(ssj_lbhs)\n",
    "\n",
    "print(ssusi_solar_irr.shape)\n",
    "print(ssusi_aurora.shape)\n",
    "print(ssusi_lbhs.shape)"
   ]
  },
  {
   "attachments": {},
   "cell_type": "markdown",
   "metadata": {},
   "source": [
    "## Feature Engineering"
   ]
  },
  {
   "attachments": {},
   "cell_type": "markdown",
   "metadata": {},
   "source": [
    "### Format the data and get rid of invalid data"
   ]
  },
  {
   "cell_type": "code",
   "execution_count": 4,
   "metadata": {},
   "outputs": [],
   "source": [
    "ssusi_lbhl_mask = np.isfinite(ssusi_lbhl)\n",
    "ssusi_lbhs_mask = np.isfinite(ssusi_lbhs)\n",
    "ssusi_solar_irr_mask = np.isfinite(ssusi_solar_irr)\n",
    "ssusi_aurora_mask = np.isfinite(ssusi_aurora)\n",
    "ele_flux_mask = np.isfinite(ele_flux)\n",
    "ion_flux_mask = np.isfinite(ion_flux)\n",
    "\n",
    "mask_big = np.logical_and.reduce([ssusi_lbhl_mask, ssusi_lbhs_mask, ele_flux_mask,ion_flux_mask, ssusi_solar_irr_mask,ssusi_aurora_mask]).flatten()"
   ]
  },
  {
   "cell_type": "code",
   "execution_count": 5,
   "metadata": {},
   "outputs": [],
   "source": [
    "#apply the masks\n",
    "# ele_diff_energy_flux_arr = ele_diff_energy_flux_arr[mask_big]\n",
    "lons, lats = lons[mask_big], lats[mask_big]\n",
    "# ssj_lbhl, ssj_lbhs = ssj_lbhl[mask_big], ssj_lbhs[mask_big]\n",
    "ele_flux, ion_flux, ssusi_lbhl, ssusi_lbhs, jds, sat_nums, passes,ssusi_solar_irr,ssusi_aurora = ele_flux[mask_big], ion_flux[mask_big], ssusi_lbhl[mask_big], ssusi_lbhs[mask_big], jds[mask_big], sat_nums[mask_big], passes[mask_big],ssusi_solar_irr[mask_big],ssusi_aurora[mask_big]"
   ]
  },
  {
   "attachments": {},
   "cell_type": "markdown",
   "metadata": {},
   "source": [
    "### Concatenate ML features"
   ]
  },
  {
   "cell_type": "code",
   "execution_count": 8,
   "metadata": {},
   "outputs": [
    {
     "name": "stdout",
     "output_type": "stream",
     "text": [
      "X=\n",
      "\n",
      "[[0.         0.         0.         0.         0.        ]\n",
      " [0.         0.         0.         0.         0.        ]\n",
      " [0.         0.         0.         0.         0.        ]\n",
      " ...\n",
      " [0.47439343 0.17320273 0.36510357 1.         0.21422714]\n",
      " [0.47453419 0.17322983 0.36505237 1.         0.21387627]\n",
      " [0.47466    0.17325314 0.36500472 1.         0.21354069]]\n",
      "(541130, 5)\n"
     ]
    }
   ],
   "source": [
    "ssusi_lbhl = ssusi_lbhl.reshape(-1,1)\n",
    "ssusi_lbhs = ssusi_lbhs.reshape(-1,1)\n",
    "X = np.hstack(( ssusi_lbhl ,  ssusi_lbhs, np.divide(ssusi_lbhs,ssusi_lbhl,out=np.zeros_like(ssusi_lbhs),where=ssusi_lbhl!=0), ssusi_solar_irr.reshape(-1,1), ssusi_aurora.reshape(-1,1)  ))\n",
    "print('X=\\n')\n",
    "print(X)\n",
    "print(X.shape)"
   ]
  },
  {
   "cell_type": "code",
   "execution_count": 9,
   "metadata": {},
   "outputs": [
    {
     "name": "stdout",
     "output_type": "stream",
     "text": [
      "y=\n",
      "[[9.7918776e+19]\n",
      " [6.1276830e+19]\n",
      " [9.6042552e+19]\n",
      " ...\n",
      " [1.2307735e+22]\n",
      " [1.2691639e+22]\n",
      " [1.5446076e+22]]\n",
      "(541130, 1)\n"
     ]
    }
   ],
   "source": [
    "y = ele_flux.reshape(-1,1) / (1.6e-12 * np.pi) # convert from erg to eV/ (cm2 * ster * S)\n",
    "print('y=')\n",
    "print(y)\n",
    "print(y.shape)"
   ]
  },
  {
   "attachments": {},
   "cell_type": "markdown",
   "metadata": {},
   "source": [
    "### Scale the Features"
   ]
  },
  {
   "attachments": {},
   "cell_type": "markdown",
   "metadata": {},
   "source": [
    "Use robustscaler since the data isn't quite Gaussian enough to use standard scaler"
   ]
  },
  {
   "cell_type": "code",
   "execution_count": 10,
   "metadata": {},
   "outputs": [],
   "source": [
    "scaler_y = RobustScaler()\n",
    "scaler_x = RobustScaler()\n",
    "\n",
    "scaler_x.fit(X)\n",
    "scaler_y.fit(y)\n",
    "\n",
    "X = scaler_x.transform(X)\n",
    "y = scaler_y.transform(y)"
   ]
  },
  {
   "attachments": {},
   "cell_type": "markdown",
   "metadata": {},
   "source": [
    "Save the scalers "
   ]
  },
  {
   "cell_type": "code",
   "execution_count": 11,
   "metadata": {},
   "outputs": [],
   "source": [
    "#save the scalers for later analysis\n",
    "pickle.dump(scaler_x, open('X_scaler3.pkl','wb'))\n",
    "pickle.dump(scaler_y, open('Y_scaler3.pkl','wb'))"
   ]
  },
  {
   "attachments": {},
   "cell_type": "markdown",
   "metadata": {},
   "source": [
    "Save all of the Model Inputs"
   ]
  },
  {
   "cell_type": "code",
   "execution_count": 12,
   "metadata": {},
   "outputs": [],
   "source": [
    "h5f = h5py.File('model3_inputs.h5','w')\n",
    "h5f.create_dataset('X',data = X)\n",
    "h5f.create_dataset('y',data = y)\n",
    "h5f.create_dataset('ele_flux',data = ele_flux)\n",
    "# h5f.create_dataset('ion_flux_smoothed',data = ion_flux_smoothed)\n",
    "# h5f.create_dataset('ele_flux_smoothed',data = ele_flux_smoothed)\n",
    "h5f.create_dataset('ion_flux',data = ion_flux)\n",
    "h5f.create_dataset('ssusi_lbhl', data = ssusi_lbhl.flatten())\n",
    "h5f.create_dataset('ssusi_lbhs', data = ssusi_lbhs.flatten())\n",
    "h5f.create_dataset('ssusi_solar_irr', data = ssusi_solar_irr)\n",
    "h5f.create_dataset('ssusi_aurora', data = ssusi_aurora)\n",
    "h5f.create_dataset('sat_nums', data = sat_nums)\n",
    "h5f.create_dataset('passes', data = passes)\n",
    "h5f.create_dataset('jds', data = jds)\n",
    "h5f.create_dataset('lons', data = lons)\n",
    "h5f.create_dataset('lats', data = lats)\n",
    "# h5f.create_dataset('ele_diff_energy_flux_arr', data = ele_diff_energy_flux_arr)\n",
    "h5f.close()"
   ]
  },
  {
   "attachments": {},
   "cell_type": "markdown",
   "metadata": {},
   "source": [
    "# Neural Network Training"
   ]
  },
  {
   "attachments": {},
   "cell_type": "markdown",
   "metadata": {},
   "source": [
    "Really the only thing of note with this model is the usage of leakyReLu. I choice that activation function because I really wanted to enforce nonzero neuron activation and as a result enforce non linearity. "
   ]
  },
  {
   "cell_type": "code",
   "execution_count": 263,
   "metadata": {},
   "outputs": [],
   "source": [
    "def get_model(n_inputs,n_outputs):\n",
    "    \"\"\"\n",
    "    Super Simple sequential neural network model\n",
    "    \"\"\"\n",
    "    NN_model = keras.Sequential()\n",
    "\n",
    "    # The Input Layer :\n",
    "    NN_model.add(keras.layers.Dense(16, kernel_initializer='normal',input_dim = n_inputs, activation='LeakyReLU'))\n",
    "    \n",
    "    # The Hidden Layers :\n",
    "    # hidden_layer = tf.keras.layers.LeakyReLU(32 ) \n",
    "    # NN_model.add(hidden_layer)\n",
    "    # TOGGLED HIDDEN LAYER\n",
    "    NN_model.add(keras.layers.Dense(24, kernel_initializer='normal',activation='LeakyReLU') )\n",
    "\n",
    "\n",
    "    # The Output Layer :\n",
    "    NN_model.add(keras.layers.Dense(n_outputs, kernel_initializer='normal',activation='linear') )\n",
    "    \n",
    "    opt = keras.optimizers.Adadelta(learning_rate=0.01)\n",
    "    \n",
    "    # Compile the network :\n",
    "    NN_model.compile(loss='msle', optimizer= opt, metrics=['mse','msle','mean_absolute_percentage_error'])\n",
    "\n",
    "    return NN_model"
   ]
  },
  {
   "attachments": {},
   "cell_type": "markdown",
   "metadata": {},
   "source": [
    "## Test Train split "
   ]
  },
  {
   "attachments": {},
   "cell_type": "markdown",
   "metadata": {},
   "source": [
    "Here I wanted to kep track of which passes were test and which weren't. If that's not important ignore the hardcoding here."
   ]
  },
  {
   "cell_type": "code",
   "execution_count": 264,
   "metadata": {},
   "outputs": [
    {
     "data": {
      "text/plain": [
       "383"
      ]
     },
     "execution_count": 264,
     "metadata": {},
     "output_type": "execute_result"
    }
   ],
   "source": [
    "unique_passes = np.unique(passes)\n",
    "len(unique_passes)"
   ]
  },
  {
   "cell_type": "code",
   "execution_count": 265,
   "metadata": {},
   "outputs": [],
   "source": [
    "# let 10% of passes be test passes\n",
    "test_ratio = 0.1 \n",
    "num_test_passes = int(test_ratio * len(unique_passes) ) - 1\n",
    "\n",
    "#pick random passes to be test passes\n",
    "index = np.random.choice(unique_passes, num_test_passes, replace=False) \n",
    "test_pass_nums = [ 12.,  18.,  22.,  35.,  51.,  70.,  72.,  83.,  88.,  91., 112.,\n",
    "       113., 135., 137., 150., 158., 161., 168., 184., 189., 205., 208.,\n",
    "       216., 217., 222., 228., 240., 244., 261., 263., 267., 272., 274.,\n",
    "       275., 277., 285., 306., 316., 318., 323., 337., 348., 359., 372.,\n",
    "       387., 395., 416., 420., 428., 436., 466., 481., 513., 520., 538.,\n",
    "       555., 566.]\n",
    "test_mask = np.zeros_like(passes, dtype = bool)\n",
    "for pass_ind in test_pass_nums:\n",
    "    test_mask = np.logical_or(test_mask, passes == pass_ind)\n",
    "train_mask = np.logical_not(test_mask)"
   ]
  },
  {
   "cell_type": "code",
   "execution_count": 266,
   "metadata": {},
   "outputs": [
    {
     "name": "stdout",
     "output_type": "stream",
     "text": [
      "(62168, 1)\n",
      "(478962, 1)\n"
     ]
    }
   ],
   "source": [
    "y_test, y_train = y[test_mask], y[train_mask]\n",
    "X_test, X_train = X[test_mask], X[train_mask]\n",
    "jd_test = jds[test_mask] \n",
    "# ssj_lbhl_test, ssj_lbhs_test = ssj_lbhl[test_mask] , ssj_lbhs[test_mask] \n",
    "sat_nums_test = sat_nums[test_mask]\n",
    "#add lat lon\n",
    "\n",
    "print(y_test.shape)\n",
    "print(y_train.shape)"
   ]
  },
  {
   "attachments": {},
   "cell_type": "markdown",
   "metadata": {},
   "source": [
    "## Fit the model "
   ]
  },
  {
   "cell_type": "code",
   "execution_count": 267,
   "metadata": {
    "collapsed": true,
    "jupyter": {
     "outputs_hidden": true
    }
   },
   "outputs": [
    {
     "name": "stderr",
     "output_type": "stream",
     "text": [
      "WARNING:absl:At this time, the v2.11+ optimizer `tf.keras.optimizers.Adadelta` runs slowly on M1/M2 Macs, please use the legacy Keras optimizer instead, located at `tf.keras.optimizers.legacy.Adadelta`.\n",
      "WARNING:absl:There is a known slowdown when using v2.11+ Keras optimizers on M1/M2 Macs. Falling back to the legacy Keras optimizer, i.e., `tf.keras.optimizers.legacy.Adadelta`.\n"
     ]
    },
    {
     "name": "stdout",
     "output_type": "stream",
     "text": [
      "Model: \"sequential_27\"\n",
      "_________________________________________________________________\n",
      " Layer (type)                Output Shape              Param #   \n",
      "=================================================================\n",
      " dense_70 (Dense)            (None, 16)                96        \n",
      "                                                                 \n",
      " dense_71 (Dense)            (None, 24)                408       \n",
      "                                                                 \n",
      " dense_72 (Dense)            (None, 1)                 25        \n",
      "                                                                 \n",
      "=================================================================\n",
      "Total params: 529 (2.07 KB)\n",
      "Trainable params: 529 (2.07 KB)\n",
      "Non-trainable params: 0 (0.00 Byte)\n",
      "_________________________________________________________________\n"
     ]
    }
   ],
   "source": [
    "#get training data\n",
    "index = np.random.choice(np.arange(len(X_train)), int(test_ratio * len(X_train) ), replace=False)  \n",
    "X_train_percent = X_train[index]\n",
    "y_train_percent = y_train[index]\n",
    "#train the nn\n",
    "model = get_model(5,1)\n",
    "\n",
    "model.summary()"
   ]
  },
  {
   "cell_type": "code",
   "execution_count": 268,
   "metadata": {},
   "outputs": [
    {
     "name": "stdout",
     "output_type": "stream",
     "text": [
      "Epoch 1/20\n"
     ]
    },
    {
     "name": "stderr",
     "output_type": "stream",
     "text": [
      "2023-12-12 17:10:05.834715: I tensorflow/core/grappler/optimizers/custom_graph_optimizer_registry.cc:114] Plugin optimizer for device_type GPU is enabled.\n"
     ]
    },
    {
     "name": "stdout",
     "output_type": "stream",
     "text": [
      "11975/11975 [==============================] - ETA: 0s - loss: 0.5635 - mse: 93.1978 - msle: 0.5635 - mean_absolute_percentage_error: 2396.3547"
     ]
    },
    {
     "name": "stderr",
     "output_type": "stream",
     "text": [
      "2023-12-12 17:11:18.886283: I tensorflow/core/grappler/optimizers/custom_graph_optimizer_registry.cc:114] Plugin optimizer for device_type GPU is enabled.\n"
     ]
    },
    {
     "name": "stdout",
     "output_type": "stream",
     "text": [
      "11975/11975 [==============================] - 82s 7ms/step - loss: 0.5635 - mse: 93.1978 - msle: 0.5635 - mean_absolute_percentage_error: 2396.3547 - val_loss: 0.5669 - val_mse: 171.8974 - val_msle: 0.5669 - val_mean_absolute_percentage_error: 4995.9067\n",
      "Epoch 2/20\n",
      "11975/11975 [==============================] - 82s 7ms/step - loss: 0.3928 - mse: 81.7607 - msle: 0.3928 - mean_absolute_percentage_error: 3246.2302 - val_loss: 0.5190 - val_mse: 156.0665 - val_msle: 0.5190 - val_mean_absolute_percentage_error: 4859.3242\n",
      "Epoch 3/20\n",
      "11975/11975 [==============================] - 79s 7ms/step - loss: 0.3825 - mse: 75.5725 - msle: 0.3825 - mean_absolute_percentage_error: 3195.7109 - val_loss: 0.5057 - val_mse: 151.0689 - val_msle: 0.5057 - val_mean_absolute_percentage_error: 4926.4751\n",
      "Epoch 4/20\n",
      "11975/11975 [==============================] - 87s 7ms/step - loss: 0.3778 - mse: 73.9729 - msle: 0.3778 - mean_absolute_percentage_error: 3190.7544 - val_loss: 0.4974 - val_mse: 147.9155 - val_msle: 0.4974 - val_mean_absolute_percentage_error: 5028.6294\n",
      "Epoch 5/20\n",
      "11975/11975 [==============================] - 79s 7ms/step - loss: 0.3743 - mse: 72.9005 - msle: 0.3743 - mean_absolute_percentage_error: 3207.0762 - val_loss: 0.4919 - val_mse: 145.6445 - val_msle: 0.4919 - val_mean_absolute_percentage_error: 5094.3345\n",
      "Epoch 6/20\n",
      "11975/11975 [==============================] - 79s 7ms/step - loss: 0.3718 - mse: 72.0981 - msle: 0.3718 - mean_absolute_percentage_error: 3209.5005 - val_loss: 0.4856 - val_mse: 142.8834 - val_msle: 0.4856 - val_mean_absolute_percentage_error: 5229.4146\n",
      "Epoch 7/20\n",
      "11975/11975 [==============================] - 80s 7ms/step - loss: 0.3696 - mse: 71.3072 - msle: 0.3696 - mean_absolute_percentage_error: 3254.5542 - val_loss: 0.4810 - val_mse: 140.7343 - val_msle: 0.4810 - val_mean_absolute_percentage_error: 5324.1235\n",
      "Epoch 8/20\n",
      "11975/11975 [==============================] - 81s 7ms/step - loss: 0.3679 - mse: 70.6342 - msle: 0.3679 - mean_absolute_percentage_error: 3282.3977 - val_loss: 0.4779 - val_mse: 139.2322 - val_msle: 0.4779 - val_mean_absolute_percentage_error: 5374.9404\n",
      "Epoch 9/20\n",
      "11975/11975 [==============================] - 82s 7ms/step - loss: 0.3664 - mse: 70.0920 - msle: 0.3664 - mean_absolute_percentage_error: 3300.6724 - val_loss: 0.4750 - val_mse: 137.9035 - val_msle: 0.4750 - val_mean_absolute_percentage_error: 5425.6167\n",
      "Epoch 10/20\n",
      "11975/11975 [==============================] - 79s 7ms/step - loss: 0.3651 - mse: 69.6364 - msle: 0.3651 - mean_absolute_percentage_error: 3305.4995 - val_loss: 0.4725 - val_mse: 136.7268 - val_msle: 0.4725 - val_mean_absolute_percentage_error: 5454.1309\n",
      "Epoch 11/20\n",
      "11975/11975 [==============================] - 79s 7ms/step - loss: 0.3640 - mse: 69.2453 - msle: 0.3640 - mean_absolute_percentage_error: 3339.4998 - val_loss: 0.4706 - val_mse: 135.8216 - val_msle: 0.4706 - val_mean_absolute_percentage_error: 5497.9053\n",
      "Epoch 12/20\n",
      "11975/11975 [==============================] - 83s 7ms/step - loss: 0.3630 - mse: 68.8941 - msle: 0.3630 - mean_absolute_percentage_error: 3342.1692 - val_loss: 0.4693 - val_mse: 135.2426 - val_msle: 0.4693 - val_mean_absolute_percentage_error: 5500.1089\n",
      "Epoch 13/20\n",
      "11975/11975 [==============================] - 81s 7ms/step - loss: 0.3621 - mse: 68.6341 - msle: 0.3621 - mean_absolute_percentage_error: 3332.1631 - val_loss: 0.4678 - val_mse: 134.5439 - val_msle: 0.4678 - val_mean_absolute_percentage_error: 5517.0854\n",
      "Epoch 14/20\n",
      "11975/11975 [==============================] - 83s 7ms/step - loss: 0.3613 - mse: 68.4058 - msle: 0.3613 - mean_absolute_percentage_error: 3336.9375 - val_loss: 0.4658 - val_mse: 133.5050 - val_msle: 0.4658 - val_mean_absolute_percentage_error: 5616.5864\n",
      "Epoch 15/20\n",
      "11975/11975 [==============================] - 79s 7ms/step - loss: 0.3604 - mse: 68.1470 - msle: 0.3604 - mean_absolute_percentage_error: 3343.8521 - val_loss: 0.4648 - val_mse: 133.0607 - val_msle: 0.4648 - val_mean_absolute_percentage_error: 5621.1035\n",
      "Epoch 16/20\n",
      "11975/11975 [==============================] - 80s 7ms/step - loss: 0.3596 - mse: 67.9687 - msle: 0.3596 - mean_absolute_percentage_error: 3333.5649 - val_loss: 0.4631 - val_mse: 132.2373 - val_msle: 0.4631 - val_mean_absolute_percentage_error: 5622.2554\n",
      "Epoch 17/20\n",
      "11975/11975 [==============================] - 79s 7ms/step - loss: 0.3587 - mse: 67.7079 - msle: 0.3587 - mean_absolute_percentage_error: 3345.2258 - val_loss: 0.4629 - val_mse: 132.2248 - val_msle: 0.4629 - val_mean_absolute_percentage_error: 5597.8418\n",
      "Epoch 18/20\n",
      "11975/11975 [==============================] - 78s 7ms/step - loss: 0.3579 - mse: 67.5256 - msle: 0.3579 - mean_absolute_percentage_error: 3336.9375 - val_loss: 0.4617 - val_mse: 131.6530 - val_msle: 0.4617 - val_mean_absolute_percentage_error: 5624.9102\n",
      "Epoch 19/20\n",
      "11975/11975 [==============================] - 78s 7ms/step - loss: 0.3570 - mse: 67.3300 - msle: 0.3570 - mean_absolute_percentage_error: 3332.4788 - val_loss: 0.4609 - val_mse: 131.2379 - val_msle: 0.4609 - val_mean_absolute_percentage_error: 5678.8213\n",
      "Epoch 20/20\n",
      "11975/11975 [==============================] - 78s 7ms/step - loss: 0.3560 - mse: 67.1446 - msle: 0.3560 - mean_absolute_percentage_error: 3313.4763 - val_loss: 0.4602 - val_mse: 130.9237 - val_msle: 0.4602 - val_mean_absolute_percentage_error: 5674.3374\n"
     ]
    }
   ],
   "source": [
    "#this callbackwill stop the training when there is no improvement in validation loss for 5 consecutive epochs\n",
    "callback = tf.keras.callbacks.EarlyStopping(monitor = 'loss', patience = 3,restore_best_weights = True,start_from_epoch=15)\n",
    "# callback = tf.keras.callbacks.EarlyStopping(monitor = 'loss', patience = 40,restore_best_weights = True)\n",
    "\n",
    "stats = model.fit(X_train, y_train, epochs=20, batch_size=32, validation_split = 0.2, callbacks = [callback])"
   ]
  },
  {
   "cell_type": "code",
   "execution_count": 269,
   "metadata": {},
   "outputs": [
    {
     "data": {
      "image/png": "[encoded data removed]",
      "text/plain": [
       "<Figure size 640x480 with 1 Axes>"
      ]
     },
     "metadata": {},
     "output_type": "display_data"
    }
   ],
   "source": [
    "plt.plot(stats.history['val_loss'])\n",
    "plt.xlabel('Epoch')\n",
    "plt.ylabel('Validation Loss');"
   ]
  },
  {
   "cell_type": "code",
   "execution_count": 270,
   "metadata": {},
   "outputs": [
    {
     "name": "stdout",
     "output_type": "stream",
     "text": [
      "[ 5.66889644e-01  5.18975198e-01  5.05650818e-01  4.97371882e-01\n",
      "  4.91939902e-01  4.85632002e-01  4.81005132e-01  4.77882087e-01\n",
      "  4.75049824e-01  4.72470194e-01  4.70562279e-01  4.69296843e-01\n",
      "  4.67807978e-01  4.65774983e-01  4.64827865e-01  4.63106990e-01\n",
      "  4.62946564e-01  4.61720586e-01  4.60864693e-01  4.60198671e-01\n",
      " -9.99000000e+02 -9.99000000e+02 -9.99000000e+02 -9.99000000e+02\n",
      " -9.99000000e+02 -9.99000000e+02 -9.99000000e+02 -9.99000000e+02\n",
      " -9.99000000e+02 -9.99000000e+02]\n"
     ]
    }
   ],
   "source": [
    "\n",
    "\n",
    "with open('./CSCI5922 Project - Trials.csv', 'a') as csvfile:  \n",
    "    # creating a csv writer object  \n",
    "    csvwriter = csv.writer(csvfile) \n",
    "\n",
    "    csvwriter.writerow([stats.history['loss'][-1], stats.history['val_loss'][-1], stats.history['val_mean_absolute_percentage_error'][-1], len(stats.history['loss'])])\n",
    "\n",
    "    csvfile.close()\n",
    "\n",
    "loss_epochs = np.copy(stats.history['val_loss'])\n",
    "for i in range(len(stats.history['val_loss']),30):\n",
    "    loss_epochs = np.append(loss_epochs,-999)\n",
    "\n",
    "print(loss_epochs)\n",
    "\n",
    "with open('./CSCI5922 Project - Loss Epochs.csv', 'a') as csvfile:  \n",
    "    # creating a csv writer object  \n",
    "    csvwriter = csv.writer(csvfile) \n",
    "\n",
    "    csvwriter.writerow(loss_epochs)\n",
    "\n",
    "    csvfile.close()"
   ]
  },
  {
   "cell_type": "code",
   "execution_count": 271,
   "metadata": {},
   "outputs": [],
   "source": [
    "# arr = np.loadtxt(\"./CSCI5922 Project - Loss Epochs.csv\",\n",
    "#                  delimiter=\",\", dtype=float)\n",
    "\n",
    "# print(arr)"
   ]
  },
  {
   "attachments": {},
   "cell_type": "markdown",
   "metadata": {},
   "source": [
    "### Save the model"
   ]
  },
  {
   "cell_type": "code",
   "execution_count": 272,
   "metadata": {},
   "outputs": [],
   "source": [
    "# model.save('lbh_ion_mask_to_ele_flux_v3')"
   ]
  }
 ],
 "metadata": {
  "kernelspec": {
   "display_name": "Python 3",
   "language": "python",
   "name": "python3"
  },
  "language_info": {
   "codemirror_mode": {
    "name": "ipython",
    "version": 3
   },
   "file_extension": ".py",
   "mimetype": "text/x-python",
   "name": "python",
   "nbconvert_exporter": "python",
   "pygments_lexer": "ipython3",
   "version": "3.10.6"
  },
  "vscode": {
   "interpreter": {
    "hash": "b0fa6594d8f4cbf19f97940f81e996739fb7646882a419484c72d19e05852a7e"
   }
  }
 },
 "nbformat": 4,
 "nbformat_minor": 4
}
